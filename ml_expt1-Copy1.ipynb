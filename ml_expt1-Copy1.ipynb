{
 "cells": [
  {
   "cell_type": "code",
   "execution_count": 1,
   "id": "81f92d7c-6d36-48ee-be54-4c17f219e469",
   "metadata": {},
   "outputs": [
    {
     "name": "stdout",
     "output_type": "stream",
     "text": [
      "Generated Data (first 10 points): [-0.54623856 -1.50934347  1.78986046  0.47954436 -1.75951082  0.07384178\n",
      " -0.5923107  -0.8808104   2.19694829 -0.89592499]\n",
      "Mean: -0.014695833180376807\n",
      "Median: -0.056284322016642824\n",
      "Standard Deviation: 1.0042727194211247\n",
      "Variance: 1.008563694973501\n",
      "Max Value: 3.0876293523455947\n",
      "Min Value: -2.9590856525535005\n",
      "Sum of Squares: 1008.7796624863666\n",
      "Square Roots of Absolute Values (first 10 points): [0.73907954 1.22855341 1.33785667 0.69249141 1.32646554 0.27173844\n",
      " 0.76961724 0.938515   1.48221061 0.94653314]\n"
     ]
    }
   ],
   "source": [
    "import numpy as np\n",
    "\n",
    "# Generate random data\n",
    "data = np.random.randn(1000)  # 1000 random data points from a standard normal distribution\n",
    "\n",
    "# Calculate basic statistics\n",
    "mean = np.mean(data)\n",
    "median = np.median(data)\n",
    "std_dev = np.std(data)\n",
    "variance = np.var(data)\n",
    "max_value = np.max(data)\n",
    "min_value = np.min(data)\n",
    "\n",
    "# Apply mathematical formulas\n",
    "sum_of_squares = np.sum(data**2)\n",
    "sqrt_data = np.sqrt(np.abs(data))  # Take square root of absolute values to avoid complex numbers\n",
    "\n",
    "# Output the results\n",
    "print(\"Generated Data (first 10 points):\", data[:10])\n",
    "print(\"Mean:\", mean)\n",
    "print(\"Median:\", median)\n",
    "print(\"Standard Deviation:\", std_dev)\n",
    "print(\"Variance:\", variance)\n",
    "print(\"Max Value:\", max_value)\n",
    "print(\"Min Value:\", min_value)\n",
    "print(\"Sum of Squares:\", sum_of_squares)\n",
    "print(\"Square Roots of Absolute Values (first 10 points):\", sqrt_data[:10])\n"
   ]
  },
  {
   "cell_type": "code",
   "execution_count": null,
   "id": "eb04a5a3-1773-47c2-b0e7-3e5886cf8a6e",
   "metadata": {},
   "outputs": [],
   "source": []
  },
  {
   "cell_type": "code",
   "execution_count": null,
   "id": "05140003-eb4d-4305-a92c-c2c53c90abf3",
   "metadata": {},
   "outputs": [],
   "source": []
  },
  {
   "cell_type": "code",
   "execution_count": null,
   "id": "a6e35588-c6f0-4b79-9f5e-f023995430af",
   "metadata": {},
   "outputs": [],
   "source": []
  }
 ],
 "metadata": {
  "kernelspec": {
   "display_name": "Python 3 (ipykernel)",
   "language": "python",
   "name": "python3"
  },
  "language_info": {
   "codemirror_mode": {
    "name": "ipython",
    "version": 3
   },
   "file_extension": ".py",
   "mimetype": "text/x-python",
   "name": "python",
   "nbconvert_exporter": "python",
   "pygments_lexer": "ipython3",
   "version": "3.11.7"
  }
 },
 "nbformat": 4,
 "nbformat_minor": 5
}
